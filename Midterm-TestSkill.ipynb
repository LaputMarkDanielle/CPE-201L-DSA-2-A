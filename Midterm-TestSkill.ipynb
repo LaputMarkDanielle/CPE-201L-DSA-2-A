{
  "cells": [
    {
      "cell_type": "markdown",
      "metadata": {
        "id": "view-in-github",
        "colab_type": "text"
      },
      "source": [
        "<a href=\"https://colab.research.google.com/github/LaputMarkDanielle/CPE-201L-DSA-2-A/blob/main/Midterm-TestSkill.ipynb\" target=\"_parent\"><img src=\"https://colab.research.google.com/assets/colab-badge.svg\" alt=\"Open In Colab\"/></a>"
      ]
    },
    {
      "cell_type": "code",
      "source": [
        "import numpy as np\n",
        "\n",
        "def main():\n",
        "    arr = np.arange(20, 50, 2)\n",
        "    print(\"  EVEN INTEGERS:\")\n",
        "    display(arr)\n",
        "\n",
        "    while True:\n",
        "        print(\"\\nMenu:\")\n",
        "        print(\"A. Display elements\")\n",
        "        print(\"B. Find the maximum element\")\n",
        "        print(\"C. Reverse the array\")\n",
        "        print(\"Type Exit to End\")\n",
        "        choice = input(\"Enter your choice (a,b,c): \")\n",
        "\n",
        "        if choice == 'a':\n",
        "            print(\"Elements of the array:\")\n",
        "            display(arr)\n",
        "        elif choice == 'b':\n",
        "            max_element = np.max(arr)\n",
        "            print(\"\\nMaximum element:\")\n",
        "            display(max_element)\n",
        "        elif choice == 'c':\n",
        "            reversed_array = np.flip(arr)\n",
        "            print(\"\\nReversed array:\")\n",
        "            display(reversed_array)\n",
        "        elif choice == 'exit':\n",
        "            print(\"ByeBye.\")\n",
        "            break\n",
        "        else:\n",
        "            print(\"Invalid choice. Please enter a number between A,B and C.\")\n",
        "\n",
        "if __name__ == \"__main__\":\n",
        "    main()"
      ],
      "metadata": {
        "id": "hpFehY7TInHp",
        "outputId": "6e6f9f53-da27-41ef-de81-b54c0e3f92db",
        "colab": {
          "base_uri": "https://localhost:8080/",
          "height": 694
        }
      },
      "execution_count": 4,
      "outputs": [
        {
          "output_type": "stream",
          "name": "stdout",
          "text": [
            "  EVEN INTEGERS:\n"
          ]
        },
        {
          "output_type": "display_data",
          "data": {
            "text/plain": [
              "array([20, 22, 24, 26, 28, 30, 32, 34, 36, 38, 40, 42, 44, 46, 48])"
            ]
          },
          "metadata": {}
        },
        {
          "output_type": "stream",
          "name": "stdout",
          "text": [
            "\n",
            "Menu:\n",
            "A. Display elements\n",
            "B. Find the maximum element\n",
            "C. Reverse the array\n",
            "Type Exit to End\n",
            "Enter your choice (a,b,c): a\n",
            "Elements of the array:\n"
          ]
        },
        {
          "output_type": "display_data",
          "data": {
            "text/plain": [
              "array([20, 22, 24, 26, 28, 30, 32, 34, 36, 38, 40, 42, 44, 46, 48])"
            ]
          },
          "metadata": {}
        },
        {
          "output_type": "stream",
          "name": "stdout",
          "text": [
            "\n",
            "Menu:\n",
            "A. Display elements\n",
            "B. Find the maximum element\n",
            "C. Reverse the array\n",
            "Type Exit to End\n",
            "Enter your choice (a,b,c): b\n",
            "\n",
            "Maximum element:\n"
          ]
        },
        {
          "output_type": "display_data",
          "data": {
            "text/plain": [
              "np.int64(48)"
            ]
          },
          "metadata": {}
        },
        {
          "output_type": "stream",
          "name": "stdout",
          "text": [
            "\n",
            "Menu:\n",
            "A. Display elements\n",
            "B. Find the maximum element\n",
            "C. Reverse the array\n",
            "Type Exit to End\n",
            "Enter your choice (a,b,c): c\n",
            "\n",
            "Reversed array:\n"
          ]
        },
        {
          "output_type": "display_data",
          "data": {
            "text/plain": [
              "array([48, 46, 44, 42, 40, 38, 36, 34, 32, 30, 28, 26, 24, 22, 20])"
            ]
          },
          "metadata": {}
        },
        {
          "output_type": "stream",
          "name": "stdout",
          "text": [
            "\n",
            "Menu:\n",
            "A. Display elements\n",
            "B. Find the maximum element\n",
            "C. Reverse the array\n",
            "Type Exit to End\n",
            "Enter your choice (a,b,c): exit\n",
            "ByeBye.\n"
          ]
        }
      ]
    }
  ],
  "metadata": {
    "colab": {
      "name": "Welcome To Colab",
      "provenance": [],
      "include_colab_link": true
    },
    "kernelspec": {
      "display_name": "Python 3",
      "name": "python3"
    }
  },
  "nbformat": 4,
  "nbformat_minor": 0
}