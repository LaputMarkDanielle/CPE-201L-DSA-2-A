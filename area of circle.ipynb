{
  "nbformat": 4,
  "nbformat_minor": 0,
  "metadata": {
    "colab": {
      "provenance": [],
      "authorship_tag": "ABX9TyPf54noqJ0kbUOuY6EiaRMJ",
      "include_colab_link": true
    },
    "kernelspec": {
      "name": "python3",
      "display_name": "Python 3"
    },
    "language_info": {
      "name": "python"
    }
  },
  "cells": [
    {
      "cell_type": "markdown",
      "metadata": {
        "id": "view-in-github",
        "colab_type": "text"
      },
      "source": [
        "<a href=\"https://colab.research.google.com/github/LaputMarkDanielle/CPE-201L-DSA-2-A/blob/main/area%20of%20circle.ipynb\" target=\"_parent\"><img src=\"https://colab.research.google.com/assets/colab-badge.svg\" alt=\"Open In Colab\"/></a>"
      ]
    },
    {
      "cell_type": "code",
      "source": [
        "import math\n",
        "\n",
        "d_str = input(\"enter radius: \")\n",
        "try:\n",
        "  radius = float(d_str)\n",
        "  area = math.pi * (radius ** 2)\n",
        "  print(f\"The area of a circle with radius {radius} is {area}\")\n",
        "except ValueError:\n",
        "  print(\"Invalid input. Please enter a number for the radius.\")"
      ],
      "metadata": {
        "colab": {
          "base_uri": "https://localhost:8080/"
        },
        "id": "eYNSSTdXzhEb",
        "outputId": "2555a1c9-c7ac-4180-a2b3-6470fe70c1b8"
      },
      "execution_count": null,
      "outputs": [
        {
          "output_type": "stream",
          "name": "stdout",
          "text": [
            "enter radius: 10\n",
            "The area of a circle with radius 10.0 is 314.1592653589793\n"
          ]
        }
      ]
    },
    {
      "cell_type": "markdown",
      "source": [
        "enter the value of the radius _____\n"
      ],
      "metadata": {
        "id": "piBK4FFE8IZ9"
      }
    },
    {
      "cell_type": "code",
      "source": [
        "import math\n",
        "\n",
        "d_str = input(\"enter diameter: \")\n",
        "try:\n",
        "  diameter = float(d_str)\n",
        "  radius = diameter / 2\n",
        "  area = math.pi * (radius ** 2)\n",
        "  print(f\"The area of a circle with diameter {diameter} is {area}\")\n",
        "except ValueError:\n",
        "  print(\"Invalid input. Please enter a number for the diameter.\")\n"
      ],
      "metadata": {
        "colab": {
          "base_uri": "https://localhost:8080/"
        },
        "id": "VtLueTAd5css",
        "outputId": "820e7d84-486e-4b62-d882-1e387ebd8275"
      },
      "execution_count": null,
      "outputs": [
        {
          "output_type": "stream",
          "name": "stdout",
          "text": [
            "enter diameter: 20\n",
            "The area of a circle with diameter 20.0 is 314.1592653589793\n"
          ]
        }
      ]
    }
  ]
}