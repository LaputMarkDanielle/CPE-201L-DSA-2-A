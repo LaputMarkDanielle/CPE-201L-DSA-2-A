{
  "nbformat": 4,
  "nbformat_minor": 0,
  "metadata": {
    "colab": {
      "provenance": [],
      "authorship_tag": "ABX9TyM+J0xCrlbBF5m2tZjSEMDv",
      "include_colab_link": true
    },
    "kernelspec": {
      "name": "python3",
      "display_name": "Python 3"
    },
    "language_info": {
      "name": "python"
    }
  },
  "cells": [
    {
      "cell_type": "markdown",
      "metadata": {
        "id": "view-in-github",
        "colab_type": "text"
      },
      "source": [
        "<a href=\"https://colab.research.google.com/github/LaputMarkDanielle/CPE-201L-DSA-2-A/blob/main/array.ipynb\" target=\"_parent\"><img src=\"https://colab.research.google.com/assets/colab-badge.svg\" alt=\"Open In Colab\"/></a>"
      ]
    },
    {
      "cell_type": "code",
      "source": [
        "def traverse_array(arr):\n",
        "    \"\"\"Function to traverse and print all elements in the array\"\"\"\n",
        "    print(\"Traversing the array:\")\n",
        "    for i, element in enumerate(arr):\n",
        "        print(f\"Index {i}: {element}\")\n",
        "\n",
        "def reverse(arr):\n",
        "    \"\"\"Function to reverse the array\"\"\"\n",
        "    print(\"Reversing the array:\")\n",
        "    arr.reverse()  # In-place reversal of the array\n",
        "    print(arr)\n",
        "\n",
        "def main():\n",
        "    # Initialize an array\n",
        "    arr = [10, 20, 30, 40, 50]\n",
        "    print(\"Original array:\", arr)\n",
        "\n",
        "    while True:\n",
        "        print(\"\\nMenu:\")\n",
        "        print(\"1. Traverse array\")\n",
        "        print(\"2. Reverse array\")\n",
        "        print(\"3. Exit\")\n",
        "        choice = input(\"Enter your choice (1-3): \")\n",
        "\n",
        "        if choice == '1':\n",
        "            traverse_array(arr)\n",
        "        elif choice == '2':\n",
        "            reverse(arr)\n",
        "        elif choice == '3':\n",
        "            print(\"Exiting the program.\")\n",
        "            break  # Exit the loop and terminate the program\n",
        "        else:\n",
        "            print(\"Invalid choice. Please enter a number between 1 and 3.\")\n",
        "\n",
        "if __name__ == \"__main__\":\n",
        "    main()\n"
      ],
      "metadata": {
        "colab": {
          "base_uri": "https://localhost:8080/"
        },
        "id": "eYNSSTdXzhEb",
        "outputId": "bc224753-4d9a-475f-e8f2-64a2c01ca8b6"
      },
      "execution_count": 2,
      "outputs": [
        {
          "output_type": "stream",
          "name": "stdout",
          "text": [
            "Original array: [10, 20, 30, 40, 50]\n",
            "\n",
            "Menu:\n",
            "1. Traverse array\n",
            "2. Reverse array\n",
            "3. Exit\n",
            "Enter your choice (1-3): 2\n",
            "Reversing the array:\n",
            "[50, 40, 30, 20, 10]\n",
            "\n",
            "Menu:\n",
            "1. Traverse array\n",
            "2. Reverse array\n",
            "3. Exit\n",
            "Enter your choice (1-3): 3\n",
            "Exiting the program.\n"
          ]
        }
      ]
    },
    {
      "cell_type": "code",
      "source": [],
      "metadata": {
        "id": "2hTcEN-rX9qp"
      },
      "execution_count": null,
      "outputs": []
    }
  ]
}