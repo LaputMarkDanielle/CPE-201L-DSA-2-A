{
  "cells": [
    {
      "cell_type": "markdown",
      "metadata": {
        "id": "view-in-github",
        "colab_type": "text"
      },
      "source": [
        "<a href=\"https://colab.research.google.com/github/LaputMarkDanielle/CPE-201L-DSA-2-A/blob/main/quiz%201%20stack.ipynb\" target=\"_parent\"><img src=\"https://colab.research.google.com/assets/colab-badge.svg\" alt=\"Open In Colab\"/></a>"
      ]
    },
    {
      "cell_type": "code",
      "source": [
        "class Stack:\n",
        "    def __init__(self):\n",
        "        self.stack = []\n",
        "\n",
        "    def add(self, dataval):\n",
        "        self.stack.append(dataval)\n",
        "        return True\n",
        "\n",
        "    def remove(self):\n",
        "        if len(self.stack) <= 0:\n",
        "            return (\"no element in the stack\")\n",
        "        else:\n",
        "            return self.stack.pop\n",
        "\n",
        "    def print_item(self):\n",
        "        for item in self.stack:\n",
        "            print(item,end='|')\n",
        "\n",
        "Astack = Stack()\n",
        "Astack.add(\"M\")\n",
        "Astack.add(\"A\")\n",
        "Astack.add(\"R\")\n",
        "Astack.add(\"K\")\n",
        "Astack.add(\" \")\n",
        "Astack.add(\"D\")\n",
        "Astack.add(\"A\")\n",
        "Astack.add(\"N\")\n",
        "Astack.add(\"I\")\n",
        "Astack.add(\"E\")\n",
        "Astack.add(\"L\")\n",
        "Astack.add(\"L\")\n",
        "Astack.add(\"E\")\n",
        "Astack.add(\" \")\n",
        "Astack.add(\"L\")\n",
        "Astack.add(\"A\")\n",
        "Astack.add(\"P\")\n",
        "Astack.add(\"U\")\n",
        "Astack.add(\"T\")\n",
        "Astack.print_item()"
      ],
      "metadata": {
        "colab": {
          "base_uri": "https://localhost:8080/"
        },
        "id": "dQIgFW1-d1yM",
        "outputId": "217350d8-3b81-4be3-a430-76308a0b31c0"
      },
      "execution_count": 3,
      "outputs": [
        {
          "output_type": "stream",
          "name": "stdout",
          "text": [
            "M|A|R|K| |D|A|N|I|E|L|L|E| |L|A|P|U|T|"
          ]
        }
      ]
    }
  ],
  "metadata": {
    "colab": {
      "provenance": [],
      "authorship_tag": "ABX9TyMSMtZzNpxKfP71ie8Lo1pI",
      "include_colab_link": true
    },
    "kernelspec": {
      "display_name": "Python 3",
      "name": "python3"
    },
    "language_info": {
      "name": "python"
    }
  },
  "nbformat": 4,
  "nbformat_minor": 0
}